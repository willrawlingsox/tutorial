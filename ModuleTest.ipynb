{
 "cells": [
  {
   "cell_type": "markdown",
   "id": "aac0b439-05ce-4ca8-8fb2-8654fc2eb953",
   "metadata": {},
   "source": [
    "# Energy Systems Python Skills Activity Notebook\n",
    "Use this notebook to test the output of your code written as part of the class activities.\n",
    "\n",
    "**If you haven't already done so, complete the exercises PV and Battery activity - you may wish to use the ModuleStarter.py script.**"
   ]
  },
  {
   "cell_type": "markdown",
   "id": "b8899a1f-5224-4ef2-9f35-6a1cd8afc759",
   "metadata": {},
   "source": [
    "## Import your module\n",
    "Import your module scropt. Edit as appropriate with the name of your script.\n",
    "\n",
    "Your own modules (and packages) are imported in the same way you import an external library. However, you need to make sure the script for you module is in the current working directory (usually the same folder as the file you are trying to import into i.e. this file)"
   ]
  },
  {
   "cell_type": "code",
   "execution_count": 1,
   "id": "fed6a346-6081-4b6b-a16b-9e506dcf171f",
   "metadata": {},
   "outputs": [],
   "source": [
    "import ModuleStarter as es"
   ]
  },
  {
   "cell_type": "markdown",
   "id": "ba31926b-c62b-4ab9-a5ae-348e0405b209",
   "metadata": {},
   "source": [
    "## Test your PV array size calculation function"
   ]
  },
  {
   "cell_type": "code",
   "execution_count": null,
   "id": "06a92261-f6de-45bf-be28-fbee0bf915a9",
   "metadata": {},
   "outputs": [],
   "source": [
    "# input parameters\n",
    "building_width = 15.0  # building width (m)\n",
    "building_length = 28.0  # building length (m)\n",
    "roof_angle = 22.0  # angle of roof incline deg\n",
    "pv_width = 1690  # width of PV panel in mm\n",
    "pv_height = 1046  # height of PV panel in mm\n",
    "pv_power = 400.0  # power of PV panel in Wp\n",
    "\n",
    "# call your PV array calculation function using dot notation to \n",
    "# access the function contained within your module.\n",
    "total_panels, capacity = es.calc_pv_array_size()\n",
    "\n",
    "# print output\n",
    "print(\"PV array consists of {} with total capacity {} kW\".format(total_panels, capacity) "
   ]
  },
  {
   "cell_type": "markdown",
   "id": "1d035a93-0be9-430b-8c1c-5c06848bef27",
   "metadata": {},
   "source": [
    "## Test you battery function"
   ]
  },
  {
   "cell_type": "code",
   "execution_count": 15,
   "id": "f34d3ee5-b475-4e17-8f19-0f58b4e7472b",
   "metadata": {},
   "outputs": [
    {
     "name": "stdout",
     "output_type": "stream",
     "text": [
      "State of charge: 3.5 kWh, net_power: 1.5 kW\n"
     ]
    }
   ],
   "source": [
    "soc = 12  # state of charge (kWh)\n",
    "E_tot = 13.5  # total energy capacity (kWh)\n",
    "P_max = 8.5  # total power capacity (kW)\n",
    "T = 1  # length of period (hours)\n",
    "\n",
    "power = 10  # power demand (kW)\n",
    "\n",
    "soc, net_power = es.battery_charge_action(soc, power, E_tot, P_max, T)\n",
    "\n",
    "print(\"State of charge: {} kWh, net_power: {} kW\".format(soc, net_power))"
   ]
  },
  {
   "cell_type": "markdown",
   "id": "f925ee80-ccb6-43f7-9ddb-bc0780912e62",
   "metadata": {},
   "source": [
    "## Test your battery object"
   ]
  },
  {
   "cell_type": "code",
   "execution_count": 16,
   "id": "84955189-8205-48b1-a46e-642adc2bc7b4",
   "metadata": {},
   "outputs": [
    {
     "name": "stdout",
     "output_type": "stream",
     "text": [
      "Final battery state of charge 51.9 %\n"
     ]
    }
   ],
   "source": [
    "demand = [3, 5, -1, -4, -3, 0, 5, 8, -3, 8, -5, 1, 4, 7, 5, 2, 2, -5, -2, -5, -0, 7, 3, -5]\n",
    "net_demand = [0] * len(demand)\n",
    "b1 = es.Battery(1)\n",
    "for t, d in enumerate(demand):  # t is the index, d is the corresponding demand index\n",
    "    net_demand[t] = b1.battery_charge_action(d, 1)\n",
    "\n",
    "print(\"Final battery state of charge {:.1f} %\".format((b1.soc/b1.E_tot)*100))"
   ]
  },
  {
   "cell_type": "markdown",
   "id": "bd0296ec-f09f-49d4-9536-bab0faf52819",
   "metadata": {},
   "source": [
    "## Advanced\n",
    "Have a go at the following activity if you finish the Numpy, Pandas and Plotting activities early on Day 2.\n",
    "\n",
    "Some starting code has been included."
   ]
  },
  {
   "cell_type": "markdown",
   "id": "06315ba5-e166-480b-8aec-877ee3f48e18",
   "metadata": {},
   "source": [
    "1. Download hourly solar generation data for a 1kW PV array using the renewables.ninja website (you will need to select the raw data option).\n",
    "\n",
    "2. Import you data into a pandas DataFrame and calculate the capacity factor across a whole year.\n",
    "\n",
    "3. Calculate the hourly output of a PV array that would cover Holywell House roof using the output of your PV array size function to scale the 1kW PV data."
   ]
  },
  {
   "cell_type": "code",
   "execution_count": null,
   "id": "e5ed6d6b-e527-4f58-81b6-ab7e6510afa2",
   "metadata": {},
   "outputs": [],
   "source": [
    "# renewables ninja data\n",
    "pv_data = pd.read_csv()\n"
   ]
  },
  {
   "cell_type": "code",
   "execution_count": null,
   "id": "a1735f51-5a43-48da-b43f-48a5d7b20039",
   "metadata": {},
   "outputs": [],
   "source": [
    "# mean capacity factor\n",
    "pv_data[\"\n"
   ]
  },
  {
   "cell_type": "code",
   "execution_count": null,
   "id": "af8c4509-6e33-4d61-887a-2c5d9e37a12c",
   "metadata": {},
   "outputs": [],
   "source": [
    "# holywell house PV output\n",
    "hh_pv_out = es.calc_pv_array_size()[1] *\n"
   ]
  },
  {
   "cell_type": "markdown",
   "id": "a28ac500-2fa6-4dcf-906f-368737d18d8f",
   "metadata": {},
   "source": [
    "3. Import the yearly electricity consumption for Holywell House and resample to hourly resolution."
   ]
  },
  {
   "cell_type": "code",
   "execution_count": null,
   "id": "83cd6756-4682-4137-bf07-d78d71821b29",
   "metadata": {},
   "outputs": [],
   "source": [
    "# import Holywell House electrical demand and resample\n",
    "hh_elec = pd.read_csv()\n",
    "hh_elec_hourly = hh_elec.resample("
   ]
  },
  {
   "cell_type": "markdown",
   "id": "671ae79d-2d40-4f11-ac4b-7fd502dc372e",
   "metadata": {},
   "source": [
    "4. Calculate the non-dispatchable net demand of demand and generation"
   ]
  },
  {
   "cell_type": "code",
   "execution_count": null,
   "id": "8ea63712-faef-413c-bf9e-711ec459ecc3",
   "metadata": {},
   "outputs": [],
   "source": [
    "non_dispatch = hh_elec_hourly.to_numpy() -"
   ]
  },
  {
   "cell_type": "markdown",
   "id": "85df9709-6d98-44a3-9a97-91e13f0ad1b6",
   "metadata": {},
   "source": [
    "5. Implement battery storage of a 20 kWh, 10 kW battery using your battery object and for loop code above. Calculate the final net demand after battery usage and the state of charge of the battery. "
   ]
  },
  {
   "cell_type": "code",
   "execution_count": null,
   "id": "468105fb-ce3b-4008-b6bc-8950736f0511",
   "metadata": {},
   "outputs": [],
   "source": [
    "b1 = es.Battery(1,\n",
    "net_demand = np.zeros(len(non_dispatch)) # create an numpy array of zeros to track net demand\n",
    "soc = np.zeros(len(non_dispatch)) # create an numpy array of zeros to track state of charge\n",
    "for t, d in enumerate(non_dispatch):\n",
    "    net_demand[t]=\n",
    "    soc[t]=\n"
   ]
  },
  {
   "cell_type": "markdown",
   "id": "f3b3f6f8-834d-48d3-b337-05a0ca2cb55f",
   "metadata": {},
   "source": [
    "6. Create a new dataframe containing the following hourly data as columns: hh_pv_out, hh_elec_hourly, net_demand, soc.\n",
    "\n",
    "7. Plot the contents of the dataframe for a single day showing the system behaviour."
   ]
  },
  {
   "cell_type": "code",
   "execution_count": null,
   "id": "65bbe030-f2f2-4156-96d7-a2c530af44e8",
   "metadata": {},
   "outputs": [],
   "source": [
    "system_df = pd.DataFrame({\"PV Gen (kW)\": ,\n",
    "                         \"Demand (kW)\": ,\n",
    "                         }\n",
    "system_df.plot("
   ]
  },
  {
   "cell_type": "markdown",
   "id": "94795e5b-176b-41d5-a0f3-963bab472bf6",
   "metadata": {},
   "source": [
    "8. As a new column, calculate the cost of net energy usage assuming a 30p/kWh flat rate, and print the total annual energy cost."
   ]
  },
  {
   "cell_type": "code",
   "execution_count": null,
   "id": "05202a2e-1e03-4d3a-8d95-891c7bf5bcdd",
   "metadata": {},
   "outputs": [],
   "source": [
    "system_df[\"Energy cost (£)\"] = \n",
    "\n",
    "print()"
   ]
  },
  {
   "cell_type": "markdown",
   "id": "3b65d132-76a1-433f-984b-c7dd56736c6c",
   "metadata": {},
   "source": [
    "9. Create a function with all of the above code (in the advanced activity) that takes only battery energy and power as inputs, and returns the annual cost of energy."
   ]
  },
  {
   "cell_type": "code",
   "execution_count": null,
   "id": "fd70cfc0-4a8b-4cfe-b1af-277cf8084444",
   "metadata": {},
   "outputs": [],
   "source": [
    "def energy_cost(batt_energy, batt_power):\n",
    "\n",
    "\n",
    "    return energy_cost"
   ]
  },
  {
   "cell_type": "markdown",
   "id": "9a0cdb8d-41b1-49a3-bf2e-4df4cfcd0f2d",
   "metadata": {},
   "source": [
    "10. Using a loop, calculate the energy cost for a range of different battery sizes and add this to the annualised cost of a battery. Plot this total cost as a function of battery capacity. What do you conclude from this graph?"
   ]
  },
  {
   "cell_type": "code",
   "execution_count": null,
   "id": "3be25049-72ba-4600-9326-6f9446bb015b",
   "metadata": {},
   "outputs": [],
   "source": [
    "batt_Es = np.arange(0,)\n",
    "\n",
    "for batt_E in batt_Es:\n",
    "    batt_P = batt_E / 2  # assume a 2:1 kWh/kW battery\n",
    "    energy_cost = \n",
    "    total_cost =\n"
   ]
  },
  {
   "cell_type": "code",
   "execution_count": null,
   "id": "33f53b0d-9bf4-4bf3-a059-e2a9de05b7c9",
   "metadata": {},
   "outputs": [],
   "source": [
    "from matplotlib import pyplot as plt\n",
    "plt.plot("
   ]
  }
 ],
 "metadata": {
  "kernelspec": {
   "display_name": "Python 3 (ipykernel)",
   "language": "python",
   "name": "python3"
  },
  "language_info": {
   "codemirror_mode": {
    "name": "ipython",
    "version": 3
   },
   "file_extension": ".py",
   "mimetype": "text/x-python",
   "name": "python",
   "nbconvert_exporter": "python",
   "pygments_lexer": "ipython3",
   "version": "3.12.6"
  }
 },
 "nbformat": 4,
 "nbformat_minor": 5
}
